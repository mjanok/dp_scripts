{
 "cells": [
  {
   "cell_type": "markdown",
   "metadata": {},
   "source": [
    "Imports, loading DFs"
   ]
  },
  {
   "cell_type": "code",
   "execution_count": 65,
   "metadata": {},
   "outputs": [
    {
     "name": "stderr",
     "output_type": "stream",
     "text": [
      "/tmp/ipykernel_3669/4046556285.py:5: UserWarning: Parsing dates in %d.%m.%Y format when dayfirst=False (the default) was specified. Pass `dayfirst=True` or specify a format to silence this warning.\n",
      "  ai_df['Date'] = pd.to_datetime(ai_df['Date'])\n"
     ]
    }
   ],
   "source": [
    "import pandas as pd\n",
    "import re\n",
    "import os\n",
    "\n",
    "ai_df = pd.read_csv('Data/remoteVisibAI.csv')\n",
    "ai_df[['Date','Time']] = ai_df['Time [UTC]'].str.split(' ', expand=True)\n",
    "ai_df['Date'] = pd.to_datetime(ai_df['Date'])\n",
    "ai_df = ai_df.drop(['min visibility unit', 'visibility unit', 'Time [UTC]'], axis=1)\n",
    "ai_df = ai_df[['Date','Time', 'visibility','min visibility', 'direction visibility']]\n",
    "ai_df = ai_df.rename(columns={\"visibility\": \"VisObs\", \"min visibility\": \"MinVisObs\", \"direction visibility\": \"MinVisDirOs\"})\n",
    "c1 = (ai_df['Date'] >= '2019-11-01') & (ai_df['Date'] <= '2020-02-29')\n",
    "c2 = (ai_df['Time'] >= '05:20:00') & (ai_df['Time'] <= '17:00:00')\n",
    "ai_df['VisObs'] = ai_df['VisObs'].astype(int)\n",
    "ai_df = ai_df[c1 & c2]\n",
    "\n",
    "obs_df = pd.read_csv('Data/remoteVisibObs.csv',encoding='latin',sep=';')\n",
    "obs_df = obs_df.dropna(subset=['VisObs'])\n",
    "obs_df[['Date','Time']] = obs_df['Timestamp'].str.split('_', expand=True)\n",
    "obs_df = obs_df.drop(['Timestamp', 'Note', 'DONE.Who'], axis=1)\n",
    "obs_df = obs_df[['Date','Time', 'VisObs', 'MinVisObs', 'MinVisDirObs']]\n",
    "def rearrange_date(date_str,dayFirst):\n",
    "    match = re.match(r'(\\d{1,2})[./](\\d{1,2})[./](\\d{4})', date_str)\n",
    "    if match and dayFirst:\n",
    "        return f\"{match.group(3)}-{match.group(2).zfill(2)}-{match.group(1).zfill(2)}\"\n",
    "    elif match and not dayFirst:\n",
    "        return f\"{match.group(3)}-{match.group(1).zfill(2)}-{match.group(2).zfill(2)}\"\n",
    "    else:\n",
    "        return date_str\n",
    "obs_df['Date'] = obs_df['Date'].apply(lambda x: rearrange_date(x,dayFirst=False)) \n",
    "c3 = (obs_df['Date'] >= '2019-11-01') & (obs_df['Date'] <= '2020-02-29')\n",
    "c4 = (obs_df['Time'] >= '05:20:00') & (obs_df['Time'] <= '17:00:00')\n",
    "obs_df = obs_df[c3 & c4]\n",
    "\n",
    "sen_df = pd.read_csv(\"Data/nov_feb_2019_SENZOR.csv\")\n",
    "sen_df[['Date','Time']] = sen_df['Time [UTC]'].str.split(' ', expand=True)\n",
    "sen_df['Date'] = sen_df['Date'].apply(lambda x: rearrange_date(x,dayFirst=True)) \n",
    "sen_df = sen_df.drop(['Time [UTC]', 'VIS 2Min Avg [m]'], axis=1)\n",
    "sen_df = sen_df.rename(columns={\"VIS 1Min Avg [m]\": \"VisObs\"})\n",
    "sen_df = sen_df[['Date','Time', 'VisObs']]\n",
    "c5 = (sen_df['Time'] >= '05:20:00') & (sen_df['Time'] <= '17:00:00')\n",
    "sen_df['Time'] = sen_df['Time'].str.slice(stop=-3)\n",
    "sen_df = sen_df[c5].groupby(['Date','Time'])['VisObs'].mean().reset_index()\n",
    "sen_df['VisObs'] = sen_df['VisObs'].astype(int)"
   ]
  },
  {
   "cell_type": "code",
   "execution_count": 72,
   "metadata": {},
   "outputs": [
    {
     "data": {
      "text/html": [
       "<div>\n",
       "<style scoped>\n",
       "    .dataframe tbody tr th:only-of-type {\n",
       "        vertical-align: middle;\n",
       "    }\n",
       "\n",
       "    .dataframe tbody tr th {\n",
       "        vertical-align: top;\n",
       "    }\n",
       "\n",
       "    .dataframe thead th {\n",
       "        text-align: right;\n",
       "    }\n",
       "</style>\n",
       "<table border=\"1\" class=\"dataframe\">\n",
       "  <thead>\n",
       "    <tr style=\"text-align: right;\">\n",
       "      <th></th>\n",
       "      <th>Date</th>\n",
       "      <th>Time</th>\n",
       "      <th>VisObs</th>\n",
       "      <th>MinVisObs</th>\n",
       "      <th>MinVisDirOs</th>\n",
       "    </tr>\n",
       "  </thead>\n",
       "  <tbody>\n",
       "    <tr>\n",
       "      <th>286</th>\n",
       "      <td>2019-11-01</td>\n",
       "      <td>05:20:00</td>\n",
       "      <td>10001</td>\n",
       "      <td>15.0</td>\n",
       "      <td>E</td>\n",
       "    </tr>\n",
       "    <tr>\n",
       "      <th>287</th>\n",
       "      <td>2019-11-01</td>\n",
       "      <td>05:50:00</td>\n",
       "      <td>10001</td>\n",
       "      <td>15.0</td>\n",
       "      <td>E</td>\n",
       "    </tr>\n",
       "    <tr>\n",
       "      <th>288</th>\n",
       "      <td>2019-11-01</td>\n",
       "      <td>06:20:00</td>\n",
       "      <td>10001</td>\n",
       "      <td>15.0</td>\n",
       "      <td>E</td>\n",
       "    </tr>\n",
       "    <tr>\n",
       "      <th>289</th>\n",
       "      <td>2019-11-01</td>\n",
       "      <td>06:50:00</td>\n",
       "      <td>10001</td>\n",
       "      <td>15.0</td>\n",
       "      <td>E</td>\n",
       "    </tr>\n",
       "    <tr>\n",
       "      <th>290</th>\n",
       "      <td>2019-11-01</td>\n",
       "      <td>07:20:00</td>\n",
       "      <td>10001</td>\n",
       "      <td>15.0</td>\n",
       "      <td>E</td>\n",
       "    </tr>\n",
       "  </tbody>\n",
       "</table>\n",
       "</div>"
      ],
      "text/plain": [
       "          Date      Time  VisObs  MinVisObs MinVisDirOs\n",
       "286 2019-11-01  05:20:00   10001       15.0           E\n",
       "287 2019-11-01  05:50:00   10001       15.0           E\n",
       "288 2019-11-01  06:20:00   10001       15.0           E\n",
       "289 2019-11-01  06:50:00   10001       15.0           E\n",
       "290 2019-11-01  07:20:00   10001       15.0           E"
      ]
     },
     "execution_count": 72,
     "metadata": {},
     "output_type": "execute_result"
    }
   ],
   "source": [
    "ai_df.head()"
   ]
  },
  {
   "cell_type": "markdown",
   "metadata": {},
   "source": []
  }
 ],
 "metadata": {
  "kernelspec": {
   "display_name": "Python 3",
   "language": "python",
   "name": "python3"
  },
  "language_info": {
   "codemirror_mode": {
    "name": "ipython",
    "version": 3
   },
   "file_extension": ".py",
   "mimetype": "text/x-python",
   "name": "python",
   "nbconvert_exporter": "python",
   "pygments_lexer": "ipython3",
   "version": "3.10.12"
  }
 },
 "nbformat": 4,
 "nbformat_minor": 2
}
