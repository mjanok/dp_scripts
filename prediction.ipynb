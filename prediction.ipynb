{
 "cells": [
  {
   "cell_type": "markdown",
   "metadata": {},
   "source": [
    "Initial setup"
   ]
  },
  {
   "cell_type": "code",
   "execution_count": 163,
   "metadata": {},
   "outputs": [],
   "source": [
    "import pandas as pd\n",
    "import os \n",
    "classes_df = pd.read_csv('classes.csv')\n",
    "class_distance_df = pd.read_csv('class_distance.csv')\n",
    "merged_df = pd.merge(classes_df, class_distance_df, left_on=['Name'], right_on=['Class_name'], how='inner')\n",
    "merged_df = merged_df.drop(columns=['Name', 'Class_name'])\n",
    "merged_df.to_csv('class_info.csv', index=False)\n",
    "info_df = pd.read_csv('class_info.csv')\n",
    "info_df['distance'] = info_df['distance'].astype(str).str[:-2].astype('int64')\n",
    "info_df = info_df.sort_values(by=['direction','distance'])\n",
    "info_df['direction'] = info_df['direction'].astype('str').str.zfill(3)\n"
   ]
  },
  {
   "cell_type": "code",
   "execution_count": 3,
   "metadata": {},
   "outputs": [
    {
     "ename": "NameError",
     "evalue": "name 'os' is not defined",
     "output_type": "error",
     "traceback": [
      "\u001b[0;31m---------------------------------------------------------------------------\u001b[0m",
      "\u001b[0;31mNameError\u001b[0m                                 Traceback (most recent call last)",
      "\u001b[1;32m/home/sabroo/Study/DP/scripts/dp_scripts/prediction.ipynb Cell 3\u001b[0m line \u001b[0;36m1\n\u001b[0;32m----> <a href='vscode-notebook-cell:/home/sabroo/Study/DP/scripts/dp_scripts/prediction.ipynb#W2sZmlsZQ%3D%3D?line=0'>1</a>\u001b[0m files \u001b[39m=\u001b[39m os\u001b[39m.\u001b[39mlistdir(\u001b[39m'\u001b[39m\u001b[39mruns/detect/exp13/labels/\u001b[39m\u001b[39m'\u001b[39m)\n\u001b[1;32m      <a href='vscode-notebook-cell:/home/sabroo/Study/DP/scripts/dp_scripts/prediction.ipynb#W2sZmlsZQ%3D%3D?line=1'>2</a>\u001b[0m \u001b[39mfor\u001b[39;00m file \u001b[39min\u001b[39;00m files:\n\u001b[1;32m      <a href='vscode-notebook-cell:/home/sabroo/Study/DP/scripts/dp_scripts/prediction.ipynb#W2sZmlsZQ%3D%3D?line=2'>3</a>\u001b[0m     path \u001b[39m=\u001b[39m \u001b[39m'\u001b[39m\u001b[39mruns/detect/exp13/labels/\u001b[39m\u001b[39m'\u001b[39m \u001b[39m+\u001b[39m file\n",
      "\u001b[0;31mNameError\u001b[0m: name 'os' is not defined"
     ]
    }
   ],
   "source": [
    "files = os.listdir('runs/detect/exp13/labels/')\n",
    "for file in files:\n",
    "    path = 'runs/detect/exp13/labels/' + file\n",
    "    temp_df = pd.read_csv(path, names=['ID','x_center', 'y_center', 'width', 'height', 'conf'], sep='\\s+')\n",
    "    temp_df = temp_df[['ID', 'conf']]\n",
    "    direction = file[24:27]\n",
    "    direction_set =  info_df['ID'][(info_df['direction'] == direction)]\n",
    "    cond = temp_df['ID'].isin(direction_set)\n",
    "    temp_df = temp_df[cond]\n",
    "    if direction == '000':\n",
    "        final_df = temp_df\n",
    "    else:\n",
    "        final_df = pd.concat([final_df, temp_df], ignore_index=True)   \n",
    "merged_df = pd.merge(left=info_df,right=final_df, on='ID')\n",
    "test_df = merged_df.groupby(\"direction\",as_index=False)[['direction','distance']].max().sort_values('distance', ascending=False)\n",
    "test_df\n"
   ]
  }
 ],
 "metadata": {
  "kernelspec": {
   "display_name": "base",
   "language": "python",
   "name": "python3"
  },
  "language_info": {
   "codemirror_mode": {
    "name": "ipython",
    "version": 3
   },
   "file_extension": ".py",
   "mimetype": "text/x-python",
   "name": "python",
   "nbconvert_exporter": "python",
   "pygments_lexer": "ipython3",
   "version": "3.10.12"
  }
 },
 "nbformat": 4,
 "nbformat_minor": 2
}
