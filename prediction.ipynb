{
 "cells": [
  {
   "cell_type": "markdown",
   "metadata": {},
   "source": [
    "Initial setup"
   ]
  },
  {
   "cell_type": "code",
   "execution_count": 163,
   "metadata": {},
   "outputs": [],
   "source": [
    "import pandas as pd\n",
    "import os \n",
    "classes_df = pd.read_csv('classes.csv')\n",
    "class_distance_df = pd.read_csv('class_distance.csv')\n",
    "merged_df = pd.merge(classes_df, class_distance_df, left_on=['Name'], right_on=['Class_name'], how='inner')\n",
    "merged_df = merged_df.drop(columns=['Name', 'Class_name'])\n",
    "merged_df.to_csv('class_info.csv', index=False)\n",
    "info_df = pd.read_csv('class_info.csv')\n",
    "info_df['distance'] = info_df['distance'].astype(str).str[:-2].astype('int64')\n",
    "info_df = info_df.sort_values(by=['direction','distance'])\n",
    "info_df['direction'] = info_df['direction'].astype('str').str.zfill(3)\n"
   ]
  },
  {
   "cell_type": "code",
   "execution_count": 171,
   "metadata": {},
   "outputs": [
    {
     "data": {
      "text/html": [
       "<div>\n",
       "<style scoped>\n",
       "    .dataframe tbody tr th:only-of-type {\n",
       "        vertical-align: middle;\n",
       "    }\n",
       "\n",
       "    .dataframe tbody tr th {\n",
       "        vertical-align: top;\n",
       "    }\n",
       "\n",
       "    .dataframe thead th {\n",
       "        text-align: right;\n",
       "    }\n",
       "</style>\n",
       "<table border=\"1\" class=\"dataframe\">\n",
       "  <thead>\n",
       "    <tr style=\"text-align: right;\">\n",
       "      <th></th>\n",
       "      <th>direction</th>\n",
       "      <th>distance</th>\n",
       "    </tr>\n",
       "  </thead>\n",
       "  <tbody>\n",
       "    <tr>\n",
       "      <th>2</th>\n",
       "      <td>090</td>\n",
       "      <td>240</td>\n",
       "    </tr>\n",
       "    <tr>\n",
       "      <th>0</th>\n",
       "      <td>000</td>\n",
       "      <td>230</td>\n",
       "    </tr>\n",
       "    <tr>\n",
       "      <th>6</th>\n",
       "      <td>270</td>\n",
       "      <td>230</td>\n",
       "    </tr>\n",
       "    <tr>\n",
       "      <th>1</th>\n",
       "      <td>045</td>\n",
       "      <td>216</td>\n",
       "    </tr>\n",
       "    <tr>\n",
       "      <th>7</th>\n",
       "      <td>315</td>\n",
       "      <td>150</td>\n",
       "    </tr>\n",
       "    <tr>\n",
       "      <th>3</th>\n",
       "      <td>135</td>\n",
       "      <td>135</td>\n",
       "    </tr>\n",
       "    <tr>\n",
       "      <th>4</th>\n",
       "      <td>180</td>\n",
       "      <td>120</td>\n",
       "    </tr>\n",
       "    <tr>\n",
       "      <th>5</th>\n",
       "      <td>225</td>\n",
       "      <td>100</td>\n",
       "    </tr>\n",
       "  </tbody>\n",
       "</table>\n",
       "</div>"
      ],
      "text/plain": [
       "  direction  distance\n",
       "2       090       240\n",
       "0       000       230\n",
       "6       270       230\n",
       "1       045       216\n",
       "7       315       150\n",
       "3       135       135\n",
       "4       180       120\n",
       "5       225       100"
      ]
     },
     "execution_count": 171,
     "metadata": {},
     "output_type": "execute_result"
    }
   ],
   "source": [
    "files = os.listdir('runs/detect/exp13/labels/')\n",
    "for file in files:\n",
    "    path = 'runs/detect/exp13/labels/' + file\n",
    "    temp_df = pd.read_csv(path, names=['ID','x_center', 'y_center', 'width', 'height', 'conf'], sep='\\s+')\n",
    "    temp_df = temp_df[['ID', 'conf']]\n",
    "    direction = file[24:27]\n",
    "    direction_set =  info_df['ID'][(info_df['direction'] == direction)]\n",
    "    cond = temp_df['ID'].isin(direction_set)\n",
    "    temp_df = temp_df[cond]\n",
    "    if direction == '000':\n",
    "        final_df = temp_df\n",
    "    else:\n",
    "        final_df = pd.concat([final_df, temp_df], ignore_index=True)   \n",
    "merged_df = pd.merge(left=info_df,right=final_df, on='ID')\n",
    "test_df = merged_df.groupby(\"direction\",as_index=False)[['direction','distance']].max().sort_values('distance', ascending=False)\n",
    "test_df\n"
   ]
  }
 ],
 "metadata": {
  "kernelspec": {
   "display_name": "base",
   "language": "python",
   "name": "python3"
  },
  "language_info": {
   "codemirror_mode": {
    "name": "ipython",
    "version": 3
   },
   "file_extension": ".py",
   "mimetype": "text/x-python",
   "name": "python",
   "nbconvert_exporter": "python",
   "pygments_lexer": "ipython3",
   "version": "3.9.13"
  }
 },
 "nbformat": 4,
 "nbformat_minor": 2
}
